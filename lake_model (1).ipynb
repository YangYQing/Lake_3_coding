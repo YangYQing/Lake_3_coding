{
 "cells": [
  {
   "cell_type": "code",
   "execution_count": 1,
   "id": "ea76c6ee-fbcb-4b0f-9e5a-19802792e02b",
   "metadata": {},
   "outputs": [],
   "source": [
    "\"\"\"\n",
    "Main program that models the lake (thermal structure + solids concentration). \n",
    "TO FILL!\n",
    "\"\"\"\n",
    "\n",
    "\"comments\"\n",
    "\n",
    "import os\n",
    "import numpy as np\n",
    "from lake_functions import *\n",
    "from lake_cases import *\n",
    "import datetime as dtt\n",
    "import matplotlib.pyplot as plt"
   ]
  },
  {
   "cell_type": "code",
   "execution_count": 2,
   "id": "4013247a-4463-4e16-8d71-1682066cd92f",
   "metadata": {},
   "outputs": [],
   "source": [
    "# PARAMETERS\n",
    "#Time\n",
    "nyears=2\n",
    "tyear=np.tile(np.arange(1,366,1),[1,nyears]) # DOY\n",
    "tyear=tyear[0];\n",
    "t=np.arange(1,365*nyears+1,1) # Time in days from the first day\n",
    "\n",
    "# Meteorological data:\n",
    "meteodata_NASA =np.genfromtxt(\"Meteo_data_NASA.txt\", usecols=tuple(np.arange(3,9,1)),skip_header=1,dtype=float)\n",
    "meteodata_NASA=np.tile(meteodata_NASA,[nyears,1]) \n",
    "Ta=meteodata_NASA[:,4]  # [°C]\n",
    "RH=meteodata_NASA[:,2]  # [#]\n",
    "Wsp=meteodata_NASA[:,5]  # [m/s]\n",
    "R=meteodata_NASA[:,1]*10**6/(24*3600)  # [W/m^2]\n",
    "P=meteodata_NASA[:,3]*1000  # [Pa]\n",
    "\n",
    "# Atmospheric variables:\n",
    "rho_air=1.2  # [kg/m^3], air density\n",
    "CD=0.001  # [-], drag coefficient\n",
    "\n",
    "#Basin:\n",
    "hmax=8; # [m], lake depth\n",
    "\n",
    "# Heat fluxes:\n",
    "Twinter=4\n",
    "Adiff=0.066  # [-], albedo of diffuse shortwave radiation\n",
    "Adir=0.1  # [-], albedo of direct shortwave radiation (approximate value for 50°N)\n",
    "C=0.5  # Cloudiness\n",
    "Fdir=(1-C)/((1-C)+0.5*C) \n",
    "Fdiff=0.5*C/((1-C)+0.5*C) \n",
    "Hsw0=-R*(Fdir*(1-Adir)+Fdiff*(1-Adiff))  # [W/m^2], shortwave radiation (<0) passing through the lake surface\n",
    "\n",
    "# Gravity\n",
    "g=9.81 # [m.s^(-2)]\n",
    "\n",
    "# Water and particles properties:\n",
    "Dp=1.6*10**(-6)  # [m]\n",
    "rho_p=2650 # [kg/m^3]\n",
    "nu=1E-6  # [m^2/s]\n",
    "Vs=g*(rho_p-1000)/1000*Dp**2/(18*nu)  # [m/s], settling velocity\n",
    "f_fft=10  # [%], solids content in the FFT\n",
    "C_FFT=f_fft*10**4  # [g/m^3], solids concentration in the FFT\n"
   ]
  },
  {
   "cell_type": "code",
   "execution_count": 3,
   "id": "666aac54-5537-447c-b30f-7a1aa4fa4af8",
   "metadata": {},
   "outputs": [],
   "source": [
    "# THERMOCLINE\n",
    "\n",
    "iceoff=(dtt.datetime(2015,4,26)-dtt.datetime(2015,1,1)).days  # iceoff DOY (based on observations)\n",
    "iceon=max(t)   # initial value for the iceon DOY, it will be calculated by the simulation\n",
    "h_epi=np.zeros(np.shape(t)); h_epi[0]=hmax \n"
   ]
  },
  {
   "cell_type": "code",
   "execution_count": 4,
   "id": "00ad1ea1-6302-4b76-a890-b4b8b209a621",
   "metadata": {},
   "outputs": [],
   "source": [
    "# INITIALIZATION\n",
    "\n",
    " # Temperature:\n",
    "T_epi=np.zeros(np.shape(t)); T_epi[0]=Twinter   # [°C]\n",
    "T_hypo=np.zeros(np.shape(t)); T_hypo[0]=Twinter   # [°C]\n",
    "\n",
    " # Solids concentration:\n",
    "Css_epi=np.zeros(np.shape(t)); Css_epi[0]=100   # [mg/L]\n",
    "Css_hypo=np.zeros(np.shape(t)); Css_hypo[0]=100   # [mg/L]\n"
   ]
  },
  {
   "cell_type": "code",
   "execution_count": 7,
   "id": "2627d58a-4f75-45fa-8198-d6adcc749a60",
   "metadata": {},
   "outputs": [
    {
     "name": "stdout",
     "output_type": "stream",
     "text": [
      "None\n"
     ]
    }
   ],
   "source": [
    "# ITERATIONS\n",
    "\n",
    "for k in np.arange(len(t)-2): \n",
    "\n",
    "    VAR_LAKE={\"T_epi\":T_epi[k],\"T_hypo\":T_hypo[k],\"Css_epi\":Css_epi[k],\"Css_hypo\":Css_hypo[k],\"h_epi\":h_epi[k]}\n",
    "\n",
    "    # ----case 1: winter 1 box----\n",
    "    if k < iceoff or k > iceon:\n",
    "        VAR_LAKE = case1(VAR_LAKE)\n",
    "\n",
    "    # ----case 2: fall turnover 1 box----\n",
    "    elif h_epi[k] == hmax:\n",
    "        VAR_LAKE, iceon = case2(VAR_LAKE)\n",
    "\n",
    "    # -------- case 3: summer stratification --------\n",
    "    else:\n",
    "        # --- compute surface shortwave rad (Beer-Lambert law) ---\n",
    "        c0, c1 = 0.325, 66\n",
    "        kd = c0 + c1 * Css_epi[k] / 1000  # [m⁻¹]\n",
    "        Hsw_abs = Hsw0[k] * (1 - np.exp(-kd * h_epi[k]))  # absorbed shortwave rad [W/m²]\n",
    "\n",
    "        # --- surface heat flux from atmosphere ---\n",
    "        H_surf = surfheat(T_epi[k], Ta[k], Wsp[k], RH[k], P[k], C) # net surface heat flux \n",
    "\n",
    "        # --- buoyancy flux ---\n",
    "        # measure of how much the lake is being (de)stabilized thermally\n",
    "        alpha = alphaT(T_epi[k])  # thermal expansivity\n",
    "        rho = 1000 # water density\n",
    "        Cp = Cpw # specific heat of water\n",
    "        dt = 86400 # iteration in seconds\n",
    "        B = alpha * g * (H_surf + Hsw_abs) / (rho * Cp)\n",
    "\n",
    "        # --- buoyancy frequency N^2 ---\n",
    "        # measure of water column stability (large N2 → unstable, small N2 → stable) \n",
    "        dT = T_epi[k] - T_hypo[k]\n",
    "        dz = 0.5 * hmax\n",
    "        N2 = g * alpha * dT / dz\n",
    "    # --- create fluxes and lake parameter dictionary ---\n",
    "        #  helps to bundle variables so they can be used by case3()\n",
    "        fluxes = {\"H_surf\": H_surf,\"H_sw_abs\": Hsw_abs,\"B\": B}\n",
    "        lake_params = {\"rho\": rho,\"Cp\": Cp,\"dt\": dt,\"A0\": A0,\"hmax\": hmax,\"vs\": Vs,\"Kz\": 1e-5}\n",
    "\n",
    "        # store thermocline depth (h_epi[k]) in a separate variable for easier comparison to new depth (h_epi3) \n",
    "        prev_h_epi = h_epi[k]\n",
    "        \n",
    "        VAR_LAKE = case3(VAR_LAKE, H_surf, Hsw0[k], tyear[k], iceon, Vs, ustar=Wsp[k]*0.05, hmax=hmax,\n",
    "                         g=g, Cpw=Cpw, Twinter=Twinter, A0=A0, Dth=1.4e-7)\n",
    "\n",
    "    # store results of each model update\n",
    "    T_epi[k + 1] = VAR_LAKE[\"T_epi\"]\n",
    "    T_hypo[k + 1] = VAR_LAKE[\"T_hypo\"]\n",
    "    Css_epi[k + 1] = VAR_LAKE[\"Css_epi\"]\n",
    "    Css_hypo[k + 1] = VAR_LAKE[\"Css_hypo\"]\n",
    "    h_epi[k + 1] = VAR_LAKE[\"h_epi\"]\n",
    "\n",
    "    # or maybe start a list for the following process (not sure):\n",
    "    lake_list = []\n",
    "    lake_list.append(VAR_LAKE)\n"
   ]
  },
  {
   "cell_type": "code",
   "execution_count": null,
   "id": "a6149ddd-2fdd-4d3a-a8ba-a450507fe28b",
   "metadata": {},
   "outputs": [],
   "source": [
    "# PLOTS"
   ]
  }
 ],
 "metadata": {
  "kernelspec": {
   "display_name": "Python [conda env:base] *",
   "language": "python",
   "name": "conda-base-py"
  },
  "language_info": {
   "codemirror_mode": {
    "name": "ipython",
    "version": 3
   },
   "file_extension": ".py",
   "mimetype": "text/x-python",
   "name": "python",
   "nbconvert_exporter": "python",
   "pygments_lexer": "ipython3",
   "version": "3.12.7"
  }
 },
 "nbformat": 4,
 "nbformat_minor": 5
}
